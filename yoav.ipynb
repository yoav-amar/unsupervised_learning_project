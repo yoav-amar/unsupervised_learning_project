{
 "cells": [
  {
   "cell_type": "code",
   "execution_count": 5,
   "id": "cef784cc",
   "metadata": {},
   "outputs": [],
   "source": [
    "from ucimlrepo import fetch_ucirepo \n",
    "  \n",
    "# fetch dataset \n",
    "adult = fetch_ucirepo(id=2) \n",
    "  \n",
    "# data (as pandas dataframes) \n",
    "X = adult.data.features \n",
    "y = adult.data.targets \n",
    "  \n",
    "df = X\n"
   ]
  },
  {
   "cell_type": "code",
   "execution_count": 22,
   "id": "3ae109ea",
   "metadata": {},
   "outputs": [
    {
     "name": "stdout",
     "output_type": "stream",
     "text": [
      "(48842, 14)\n",
      "(46443, 14)\n"
     ]
    },
    {
     "data": {
      "text/plain": [
       "Index([], dtype='object')"
      ]
     },
     "execution_count": 22,
     "metadata": {},
     "output_type": "execute_result"
    }
   ],
   "source": [
    "import pandas as pd\n",
    "import numpy as np\n",
    "\n",
    "df: pd.DataFrame = X\n",
    "\n",
    "print(df.shape)\n",
    "df = df[~df.eq(\"?\").any(axis=1)]\n",
    "df.dropna()\n",
    "print(df.shape)\n",
    "\n",
    "df.to_csv(\"adults.csv\", index=False)\n",
    "\n",
    "# Identify categorical and numerical columns\n",
    "categorical_cols = df.select_dtypes(include=['object']).columns\n",
    "numerical_cols = df.select_dtypes(include=['int64', 'float64']).columns\n",
    "\n",
    "\n",
    "df = pd.get_dummies(df, columns=categorical_cols)\n",
    "\n",
    "cat_cols = df.select_dtypes(include=['object', 'category']).columns\n",
    "cat_cols"
   ]
  },
  {
   "cell_type": "code",
   "execution_count": 30,
   "id": "57054307",
   "metadata": {},
   "outputs": [
    {
     "name": "stdout",
     "output_type": "stream",
     "text": [
      "       age  fnlwgt  education-num  capital-gain  capital-loss  hours-per-week  \\\n",
      "0       39   77516             13          2174             0              40   \n",
      "1       50   83311             13             0             0              13   \n",
      "2       38  215646              9             0             0              40   \n",
      "3       53  234721              7             0             0              40   \n",
      "4       28  338409             13             0             0              40   \n",
      "...    ...     ...            ...           ...           ...             ...   \n",
      "48837   39  215419             13             0             0              36   \n",
      "48838   64  321403              9             0             0              40   \n",
      "48839   38  374983             13             0             0              50   \n",
      "48840   44   83891             13          5455             0              40   \n",
      "48841   35  182148             13             0             0              60   \n",
      "\n",
      "       workclass_Federal-gov  workclass_Local-gov  workclass_Never-worked  \\\n",
      "0                      False                False                   False   \n",
      "1                      False                False                   False   \n",
      "2                      False                False                   False   \n",
      "3                      False                False                   False   \n",
      "4                      False                False                   False   \n",
      "...                      ...                  ...                     ...   \n",
      "48837                  False                False                   False   \n",
      "48838                  False                False                   False   \n",
      "48839                  False                False                   False   \n",
      "48840                  False                False                   False   \n",
      "48841                  False                False                   False   \n",
      "\n",
      "       workclass_Private  ...  native-country_Portugal  \\\n",
      "0                  False  ...                    False   \n",
      "1                  False  ...                    False   \n",
      "2                   True  ...                    False   \n",
      "3                   True  ...                    False   \n",
      "4                   True  ...                    False   \n",
      "...                  ...  ...                      ...   \n",
      "48837               True  ...                    False   \n",
      "48838              False  ...                    False   \n",
      "48839               True  ...                    False   \n",
      "48840               True  ...                    False   \n",
      "48841              False  ...                    False   \n",
      "\n",
      "       native-country_Puerto-Rico  native-country_Scotland  \\\n",
      "0                           False                    False   \n",
      "1                           False                    False   \n",
      "2                           False                    False   \n",
      "3                           False                    False   \n",
      "4                           False                    False   \n",
      "...                           ...                      ...   \n",
      "48837                       False                    False   \n",
      "48838                       False                    False   \n",
      "48839                       False                    False   \n",
      "48840                       False                    False   \n",
      "48841                       False                    False   \n",
      "\n",
      "       native-country_South  native-country_Taiwan  native-country_Thailand  \\\n",
      "0                     False                  False                    False   \n",
      "1                     False                  False                    False   \n",
      "2                     False                  False                    False   \n",
      "3                     False                  False                    False   \n",
      "4                     False                  False                    False   \n",
      "...                     ...                    ...                      ...   \n",
      "48837                 False                  False                    False   \n",
      "48838                 False                  False                    False   \n",
      "48839                 False                  False                    False   \n",
      "48840                 False                  False                    False   \n",
      "48841                 False                  False                    False   \n",
      "\n",
      "       native-country_Trinadad&Tobago  native-country_United-States  \\\n",
      "0                               False                          True   \n",
      "1                               False                          True   \n",
      "2                               False                          True   \n",
      "3                               False                          True   \n",
      "4                               False                         False   \n",
      "...                               ...                           ...   \n",
      "48837                           False                          True   \n",
      "48838                           False                          True   \n",
      "48839                           False                          True   \n",
      "48840                           False                          True   \n",
      "48841                           False                          True   \n",
      "\n",
      "       native-country_Vietnam  native-country_Yugoslavia  \n",
      "0                       False                      False  \n",
      "1                       False                      False  \n",
      "2                       False                      False  \n",
      "3                       False                      False  \n",
      "4                       False                      False  \n",
      "...                       ...                        ...  \n",
      "48837                   False                      False  \n",
      "48838                   False                      False  \n",
      "48839                   False                      False  \n",
      "48840                   False                      False  \n",
      "48841                   False                      False  \n",
      "\n",
      "[46443 rows x 105 columns]\n"
     ]
    }
   ],
   "source": [
    "from sklearn.manifold import TSNE\n",
    "import matplotlib.pyplot as plt\n",
    "from sklearn.decomposition import PCA\n",
    "print(df)\n",
    "\n",
    "# pca = PCA()  # Retain 95% of variance\n",
    "# X_pca = pca.fit_transform(df)\n",
    "# X_pca.shape\n",
    "# print(X_pca)\n",
    "\n",
    "# tsne = TSNE(n_components=2, perplexity=30)\n",
    "# tsne_result = tsne.fit_transform(X_pca)  # shape: (n_samples, 2)\n",
    "\n",
    "# # Optionally, if you have labels\n",
    "# plt.scatter(tsne_result[:, 0], tsne_result[:, 1])\n",
    "# plt.title(\"t-SNE Visualization\")\n",
    "# plt.show()"
   ]
  }
 ],
 "metadata": {
  "kernelspec": {
   "display_name": ".venv",
   "language": "python",
   "name": "python3"
  },
  "language_info": {
   "codemirror_mode": {
    "name": "ipython",
    "version": 3
   },
   "file_extension": ".py",
   "mimetype": "text/x-python",
   "name": "python",
   "nbconvert_exporter": "python",
   "pygments_lexer": "ipython3",
   "version": "3.10.12"
  }
 },
 "nbformat": 4,
 "nbformat_minor": 5
}
